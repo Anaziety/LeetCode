{
 "cells": [
  {
   "cell_type": "code",
   "execution_count": 4,
   "id": "d4269884",
   "metadata": {},
   "outputs": [],
   "source": [
    "class Solution(object):\n",
    "    def findContentChildren(self, g, s):\n",
    "        g.sort()  # Sort the greed factors\n",
    "        s.sort()  # Sort the cookie sizes\n",
    "\n",
    "        content_children = 0\n",
    "        greed_index = 0\n",
    "\n",
    "        for cookie_size in s:\n",
    "            if greed_index < len(g) and cookie_size >= g[greed_index]:\n",
    "                content_children += 1\n",
    "                greed_index += 1\n",
    "\n",
    "        return content_children"
   ]
  },
  {
   "cell_type": "code",
   "execution_count": 5,
   "id": "6898ba3f",
   "metadata": {},
   "outputs": [
    {
     "name": "stdout",
     "output_type": "stream",
     "text": [
      "1\n"
     ]
    }
   ],
   "source": [
    "solution = Solution()\n",
    "result = solution.findContentChildren([1, 2, 3], [1, 1])\n",
    "print(result)"
   ]
  },
  {
   "cell_type": "code",
   "execution_count": null,
   "id": "c1b5fae1",
   "metadata": {},
   "outputs": [],
   "source": []
  }
 ],
 "metadata": {
  "kernelspec": {
   "display_name": "Python 3 (ipykernel)",
   "language": "python",
   "name": "python3"
  },
  "language_info": {
   "codemirror_mode": {
    "name": "ipython",
    "version": 3
   },
   "file_extension": ".py",
   "mimetype": "text/x-python",
   "name": "python",
   "nbconvert_exporter": "python",
   "pygments_lexer": "ipython3",
   "version": "3.10.9"
  }
 },
 "nbformat": 4,
 "nbformat_minor": 5
}

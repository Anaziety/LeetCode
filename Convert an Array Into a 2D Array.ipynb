{
 "cells": [
  {
   "cell_type": "code",
   "execution_count": 1,
   "id": "7a5cf416",
   "metadata": {},
   "outputs": [],
   "source": [
    "class Solution(object):\n",
    "    def findMatrix(self, nums):\n",
    "        #Making a frequency dictionary\n",
    "        freq_dict = {}\n",
    "        for num in nums:\n",
    "            freq_dict[num] = freq_dict.get(num, 0) + 1\n",
    "\n",
    "        #Sorting the input array in descending order\n",
    "        sorted_nums = sorted(nums, reverse=True)\n",
    "\n",
    "        #Initializing an empty list for the 2D array\n",
    "        result = []\n",
    "\n",
    "        #Iterate through the sorted array and create the 2D array\n",
    "        for num in sorted_nums:\n",
    "            added = False\n",
    "            for row in result:\n",
    "                if freq_dict[num] > 0 and num not in row:\n",
    "                    row.append(num)\n",
    "                    freq_dict[num] -= 1\n",
    "                    added = True\n",
    "                    break\n",
    "\n",
    "            if not added:\n",
    "                result.append([num])\n",
    "                freq_dict[num] -= 1\n",
    "\n",
    "        #Returning the resulting 2D array\n",
    "        return result"
   ]
  },
  {
   "cell_type": "code",
   "execution_count": 2,
   "id": "510ad5ab",
   "metadata": {},
   "outputs": [
    {
     "name": "stdout",
     "output_type": "stream",
     "text": [
      "[[4, 3, 2, 1], [3, 1], [1]]\n"
     ]
    }
   ],
   "source": [
    "solution_instance = Solution()\n",
    "\n",
    "nums1 = [1, 3, 4, 1, 2, 3, 1]\n",
    "print(solution_instance.findMatrix(nums1))"
   ]
  },
  {
   "cell_type": "code",
   "execution_count": null,
   "id": "2d771a98",
   "metadata": {},
   "outputs": [],
   "source": []
  }
 ],
 "metadata": {
  "kernelspec": {
   "display_name": "Python 3 (ipykernel)",
   "language": "python",
   "name": "python3"
  },
  "language_info": {
   "codemirror_mode": {
    "name": "ipython",
    "version": 3
   },
   "file_extension": ".py",
   "mimetype": "text/x-python",
   "name": "python",
   "nbconvert_exporter": "python",
   "pygments_lexer": "ipython3",
   "version": "3.10.9"
  }
 },
 "nbformat": 4,
 "nbformat_minor": 5
}

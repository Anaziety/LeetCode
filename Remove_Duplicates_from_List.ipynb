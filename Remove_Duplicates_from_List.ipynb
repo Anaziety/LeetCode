{
 "cells": [
  {
   "cell_type": "code",
   "execution_count": 25,
   "id": "60460bce",
   "metadata": {},
   "outputs": [
    {
     "name": "stdout",
     "output_type": "stream",
     "text": [
      "0\n"
     ]
    }
   ],
   "source": [
    "#Remove Duplicates from List\n",
    "\n",
    "#1. using Remove Function\n",
    "def removeElement(nums, val):\n",
    "    while val in nums:\n",
    "        nums.remove(val)\n",
    "    return len(nums)\n",
    "\n",
    "nums = [5,5,5,5,5,5,5,5,5,5]\n",
    "val = 5\n",
    "print(removeElement(nums, val))\n",
    "\n",
    "#2. def removeElement(nums, val):  \n",
    "    nums[:] =[num for num in nums if val!=num]\n",
    "    return len(nums)\n",
    "        \n",
    "nums = [5,5,5,5,5,5,5,5,5,5]\n",
    "val = 5\n",
    "print(removeElement(nums, val))"
   ]
  },
  {
   "cell_type": "code",
   "execution_count": 24,
   "id": "a1f55aa3",
   "metadata": {},
   "outputs": [
    {
     "name": "stdout",
     "output_type": "stream",
     "text": [
      "0\n"
     ]
    }
   ],
   "source": [
    "def removeElement(nums, val):  \n",
    "    nums[:] =[num for num in nums if val!=num]\n",
    "    return len(nums)\n",
    "        \n",
    "nums = [5,5,5,5,5,5,5,5,5,5]\n",
    "val = 5\n",
    "print(removeElement(nums, val))\n",
    "        "
   ]
  },
  {
   "cell_type": "code",
   "execution_count": null,
   "id": "64b38343",
   "metadata": {},
   "outputs": [],
   "source": []
  },
  {
   "cell_type": "code",
   "execution_count": null,
   "id": "c4a9539b",
   "metadata": {},
   "outputs": [],
   "source": []
  }
 ],
 "metadata": {
  "kernelspec": {
   "display_name": "Python 3 (ipykernel)",
   "language": "python",
   "name": "python3"
  },
  "language_info": {
   "codemirror_mode": {
    "name": "ipython",
    "version": 3
   },
   "file_extension": ".py",
   "mimetype": "text/x-python",
   "name": "python",
   "nbconvert_exporter": "python",
   "pygments_lexer": "ipython3",
   "version": "3.10.9"
  }
 },
 "nbformat": 4,
 "nbformat_minor": 5
}

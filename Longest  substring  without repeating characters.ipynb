{
 "cells": [
  {
   "cell_type": "code",
   "execution_count": 1,
   "id": "ca3c0602",
   "metadata": {},
   "outputs": [],
   "source": [
    "class Solution:\n",
    "    def lengthOfLongestSubstring(self, s: str) -> int:\n",
    "        n = len(s)\n",
    "        char_set = set()\n",
    "        left = 0\n",
    "        max_length = 0\n",
    "        \n",
    "        for right in range(n):\n",
    "            while s[right] in char_set:\n",
    "                char_set.remove(s[left])\n",
    "                left += 1\n",
    "            char_set.add(s[right])\n",
    "            max_length = max(max_length, right - left + 1)\n",
    "        \n",
    "        return max_length\n"
   ]
  },
  {
   "cell_type": "code",
   "execution_count": 3,
   "id": "6f6a7f16",
   "metadata": {},
   "outputs": [
    {
     "name": "stdout",
     "output_type": "stream",
     "text": [
      "Input: 'abcabcbb'\n",
      "Output: 3\n",
      "Input: 'bbbbb'\n",
      "Output: 1\n",
      "Input: 'pwwkew'\n",
      "Output: 3\n"
     ]
    }
   ],
   "source": [
    "sol = Solution()\n",
    "\n",
    "# Example 1\n",
    "s1 = \"abcabcbb\"\n",
    "print(f\"Input: '{s1}'\")\n",
    "print(\"Output:\", sol.lengthOfLongestSubstring(s1))\n",
    "# Expected Output: 3 (substring: \"abc\")\n",
    "\n",
    "# Example 2\n",
    "s2 = \"bbbbb\"\n",
    "print(f\"Input: '{s2}'\")\n",
    "print(\"Output:\", sol.lengthOfLongestSubstring(s2))\n",
    "# Expected Output: 1 (substring: \"b\")\n",
    "\n",
    "# Example 3\n",
    "s3 = \"pwwkew\"\n",
    "print(f\"Input: '{s3}'\")\n",
    "print(\"Output:\", sol.lengthOfLongestSubstring(s3))\n",
    "# Expected Output: 3 (substring: \"wke\")\n"
   ]
  },
  {
   "cell_type": "code",
   "execution_count": null,
   "id": "39f8cb44",
   "metadata": {},
   "outputs": [],
   "source": []
  }
 ],
 "metadata": {
  "kernelspec": {
   "display_name": "Python 3 (ipykernel)",
   "language": "python",
   "name": "python3"
  },
  "language_info": {
   "codemirror_mode": {
    "name": "ipython",
    "version": 3
   },
   "file_extension": ".py",
   "mimetype": "text/x-python",
   "name": "python",
   "nbconvert_exporter": "python",
   "pygments_lexer": "ipython3",
   "version": "3.8.17"
  }
 },
 "nbformat": 4,
 "nbformat_minor": 5
}

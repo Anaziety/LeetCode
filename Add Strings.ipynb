{
 "cells": [
  {
   "cell_type": "code",
   "execution_count": 1,
   "id": "163df649",
   "metadata": {},
   "outputs": [],
   "source": [
    "class Solution(object):\n",
    "    def addStrings(self, num1, num2):\n",
    "        result = []\n",
    "        carry = 0\n",
    "\n",
    "        # Pad the shorter number with zeros\n",
    "        num1 = num1.zfill(max(len(num1), len(num2)))\n",
    "        num2 = num2.zfill(max(len(num1), len(num2)))\n",
    "\n",
    "        # Iterate from the rightmost digits to the left\n",
    "        for i in range(len(num1) - 1, -1, -1):\n",
    "            digit_sum = int(num1[i]) + int(num2[i]) + carry\n",
    "            carry = digit_sum // 10\n",
    "            result.append(str(digit_sum % 10))\n",
    "\n",
    "        # If there's still a carry, append it to the result\n",
    "        if carry:\n",
    "            result.append(str(carry))\n",
    "\n",
    "        # Reverse the result and join to get the final sum as a string\n",
    "        return ''.join(result[::-1])"
   ]
  },
  {
   "cell_type": "code",
   "execution_count": 2,
   "id": "549f85da",
   "metadata": {},
   "outputs": [
    {
     "name": "stdout",
     "output_type": "stream",
     "text": [
      "134\n"
     ]
    }
   ],
   "source": [
    "solution = Solution()\n",
    "num1_1, num2_1 = \"11\", \"123\"\n",
    "result1 = solution.addStrings(num1_1, num2_1)\n",
    "print(result1)"
   ]
  },
  {
   "cell_type": "code",
   "execution_count": null,
   "id": "1ebf0581",
   "metadata": {},
   "outputs": [],
   "source": []
  }
 ],
 "metadata": {
  "kernelspec": {
   "display_name": "Python 3 (ipykernel)",
   "language": "python",
   "name": "python3"
  },
  "language_info": {
   "codemirror_mode": {
    "name": "ipython",
    "version": 3
   },
   "file_extension": ".py",
   "mimetype": "text/x-python",
   "name": "python",
   "nbconvert_exporter": "python",
   "pygments_lexer": "ipython3",
   "version": "3.10.9"
  }
 },
 "nbformat": 4,
 "nbformat_minor": 5
}

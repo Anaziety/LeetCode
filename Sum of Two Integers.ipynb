{
 "cells": [
  {
   "cell_type": "code",
   "execution_count": 1,
   "id": "2032ab0a",
   "metadata": {},
   "outputs": [],
   "source": [
    "class Solution(object):\n",
    "    def getSum(self, a, b):\n",
    "        # 32-bit integer max\n",
    "        MAX = 0x7FFFFFFF\n",
    "        # 32-bit interger min\n",
    "        MIN = 0x80000000\n",
    "        # mask to get last 32 bits\n",
    "        mask = 0xFFFFFFFF\n",
    "        \n",
    "        while b != 0:\n",
    "            # ^ get different bits and & gets double 1s, << moves carry\n",
    "            a, b = (a ^ b) & mask, ((a & b) << 1) & mask\n",
    "        \n",
    "        # if a is negative, get a's 32 bits complement positive first\n",
    "        # then get 32-bit positive's Python complement negative\n",
    "        return a if a <= MAX else ~(a ^ mask)\n"
   ]
  },
  {
   "cell_type": "code",
   "execution_count": 3,
   "id": "d0464f6b",
   "metadata": {},
   "outputs": [
    {
     "name": "stdout",
     "output_type": "stream",
     "text": [
      "5\n"
     ]
    }
   ],
   "source": [
    "solution = Solution()\n",
    "a2, b2 = 2, 3\n",
    "result2 = solution.getSum(a2, b2)\n",
    "print(result2) "
   ]
  },
  {
   "cell_type": "code",
   "execution_count": null,
   "id": "4821f7a6",
   "metadata": {},
   "outputs": [],
   "source": []
  }
 ],
 "metadata": {
  "kernelspec": {
   "display_name": "Python 3 (ipykernel)",
   "language": "python",
   "name": "python3"
  },
  "language_info": {
   "codemirror_mode": {
    "name": "ipython",
    "version": 3
   },
   "file_extension": ".py",
   "mimetype": "text/x-python",
   "name": "python",
   "nbconvert_exporter": "python",
   "pygments_lexer": "ipython3",
   "version": "3.10.9"
  }
 },
 "nbformat": 4,
 "nbformat_minor": 5
}

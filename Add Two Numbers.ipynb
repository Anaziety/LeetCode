{
 "cells": [
  {
   "cell_type": "code",
   "execution_count": 4,
   "id": "4904ae39",
   "metadata": {},
   "outputs": [],
   "source": [
    "class ListNode:\n",
    "    def __init__(self, val=0, next=None):\n",
    "        self.val = val\n",
    "        self.next = next\n",
    "        \n",
    "class Solution(object):\n",
    "    def addTwoNumbers(self, l1, l2):\n",
    "        dummy = ListNode()\n",
    "        current = dummy\n",
    "        carry = 0\n",
    "\n",
    "        while l1 or l2 or carry:\n",
    "            # Get values from the current nodes or default to 0\n",
    "            x = l1.val if l1 else 0\n",
    "            y = l2.val if l2 else 0\n",
    "\n",
    "            # Calculate the sum and carry\n",
    "            total_sum = x + y + carry\n",
    "            carry = total_sum // 10\n",
    "            current.next = ListNode(total_sum % 10)\n",
    "\n",
    "            # Move to the next nodes if available\n",
    "            if l1:\n",
    "                l1 = l1.next\n",
    "            if l2:\n",
    "                l2 = l2.next\n",
    "\n",
    "            current = current.next\n",
    "\n",
    "        return dummy.next"
   ]
  },
  {
   "cell_type": "code",
   "execution_count": 5,
   "id": "6a4cd1f1",
   "metadata": {},
   "outputs": [
    {
     "name": "stdout",
     "output_type": "stream",
     "text": [
      "7 0 8 \n"
     ]
    }
   ],
   "source": [
    "solution = Solution()\n",
    "l1 = ListNode(2, ListNode(4, ListNode(3)))\n",
    "l2 = ListNode(5, ListNode(6, ListNode(4)))\n",
    "result1 = solution.addTwoNumbers(l1, l2)\n",
    "# Output: [7,0,8]\n",
    "while result1:\n",
    "    print(result1.val, end=\" \")\n",
    "    result1 = result1.next\n",
    "print()"
   ]
  },
  {
   "cell_type": "code",
   "execution_count": null,
   "id": "f53e46b8",
   "metadata": {},
   "outputs": [],
   "source": []
  }
 ],
 "metadata": {
  "kernelspec": {
   "display_name": "Python 3 (ipykernel)",
   "language": "python",
   "name": "python3"
  },
  "language_info": {
   "codemirror_mode": {
    "name": "ipython",
    "version": 3
   },
   "file_extension": ".py",
   "mimetype": "text/x-python",
   "name": "python",
   "nbconvert_exporter": "python",
   "pygments_lexer": "ipython3",
   "version": "3.10.9"
  }
 },
 "nbformat": 4,
 "nbformat_minor": 5
}

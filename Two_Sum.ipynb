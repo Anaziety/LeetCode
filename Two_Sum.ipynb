{
 "cells": [
  {
   "cell_type": "code",
   "execution_count": null,
   "id": "fc3c3796",
   "metadata": {},
   "outputs": [],
   "source": [
    " def twoSum(nums, target):\n",
    "        indexes = []\n",
    "        for i in range(len(nums)):\n",
    "            for j in range(i+1,len(nums)):\n",
    "                # count = j+i+1\n",
    "                if nums[i]+nums[j]==target:\n",
    "                    indexes.append(i)\n",
    "                    indexes.append(j)\n",
    "                    break\n",
    "        return indexes\n",
    "    \n",
    "nums = [2,7,11,15]\n",
    "target = 9\n",
    "print(twoSum(nums, target))    "
   ]
  }
 ],
 "metadata": {
  "kernelspec": {
   "display_name": "Virtual_for_MRCNN",
   "language": "python",
   "name": "virtual_for_mrcnn"
  },
  "language_info": {
   "codemirror_mode": {
    "name": "ipython",
    "version": 3
   },
   "file_extension": ".py",
   "mimetype": "text/x-python",
   "name": "python",
   "nbconvert_exporter": "python",
   "pygments_lexer": "ipython3",
   "version": "3.8.17"
  }
 },
 "nbformat": 4,
 "nbformat_minor": 5
}

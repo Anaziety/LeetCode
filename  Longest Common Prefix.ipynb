{
 "cells": [
  {
   "cell_type": "code",
   "execution_count": 3,
   "id": "1babd29f",
   "metadata": {},
   "outputs": [],
   "source": [
    "def longestCommonPrefix(self, strs):\n",
    "        if not strs:\n",
    "            return \"\"\n",
    "        # Find the minimum length among the strings\n",
    "        min_len = min(len(s) for s in strs)\n",
    "\n",
    "        common_prefix = \"\"\n",
    "        for i in range(min_len):\n",
    "            current_char = strs[0][i]\n",
    "\n",
    "            # Check if the current character is common among all strings\n",
    "            if all(s[i] == current_char for s in strs):\n",
    "                common_prefix += current_char\n",
    "            else:\n",
    "                break\n",
    "\n",
    "        return common_prefix "
   ]
  },
  {
   "cell_type": "code",
   "execution_count": 4,
   "id": "cc433a49",
   "metadata": {},
   "outputs": [
    {
     "name": "stdout",
     "output_type": "stream",
     "text": [
      "fl\n"
     ]
    }
   ],
   "source": [
    "strs1 = [\"flower\", \"flow\", \"flight\"]\n",
    "print(longest_common_prefix(strs1))"
   ]
  },
  {
   "cell_type": "code",
   "execution_count": null,
   "id": "e85bf4a0",
   "metadata": {},
   "outputs": [],
   "source": []
  }
 ],
 "metadata": {
  "kernelspec": {
   "display_name": "Python 3 (ipykernel)",
   "language": "python",
   "name": "python3"
  },
  "language_info": {
   "codemirror_mode": {
    "name": "ipython",
    "version": 3
   },
   "file_extension": ".py",
   "mimetype": "text/x-python",
   "name": "python",
   "nbconvert_exporter": "python",
   "pygments_lexer": "ipython3",
   "version": "3.10.9"
  }
 },
 "nbformat": 4,
 "nbformat_minor": 5
}
